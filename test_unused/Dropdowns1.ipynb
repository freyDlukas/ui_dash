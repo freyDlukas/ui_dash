{
 "cells": [
  {
   "cell_type": "code",
   "execution_count": 26,
   "metadata": {},
   "outputs": [],
   "source": [
    "from dash import Dash\n",
    "from dash import dcc, html, Input, Output, State, callback\n",
    "import pandas as pd"
   ]
  },
  {
   "cell_type": "code",
   "execution_count": 1,
   "metadata": {},
   "outputs": [
    {
     "ename": "NameError",
     "evalue": "name 'pd' is not defined",
     "output_type": "error",
     "traceback": [
      "\u001b[0;31m---------------------------------------------------------------------------\u001b[0m",
      "\u001b[0;31mNameError\u001b[0m                                 Traceback (most recent call last)",
      "Cell \u001b[0;32mIn[1], line 2\u001b[0m\n\u001b[1;32m      1\u001b[0m Path \u001b[38;5;241m=\u001b[39m \u001b[38;5;124m'\u001b[39m\u001b[38;5;124m/Users/lukas-danielf/Documents/Pathologie Marburg/dashtest/test data/metadata_v2.csv\u001b[39m\u001b[38;5;124m'\u001b[39m\n\u001b[0;32m----> 2\u001b[0m df \u001b[38;5;241m=\u001b[39m \u001b[43mpd\u001b[49m\u001b[38;5;241m.\u001b[39mread_csv(Path, sep\u001b[38;5;241m=\u001b[39m\u001b[38;5;124m'\u001b[39m\u001b[38;5;130;01m\\t\u001b[39;00m\u001b[38;5;124m'\u001b[39m)\n\u001b[1;32m      4\u001b[0m column_list \u001b[38;5;241m=\u001b[39m df\u001b[38;5;241m.\u001b[39mcolumns\u001b[38;5;241m.\u001b[39mtolist()\n\u001b[1;32m      5\u001b[0m excluded_columns \u001b[38;5;241m=\u001b[39m [\u001b[38;5;124m'\u001b[39m\u001b[38;5;124mID\u001b[39m\u001b[38;5;124m'\u001b[39m, \u001b[38;5;124m'\u001b[39m\u001b[38;5;124mname\u001b[39m\u001b[38;5;124m'\u001b[39m]\n",
      "\u001b[0;31mNameError\u001b[0m: name 'pd' is not defined"
     ]
    }
   ],
   "source": [
    "Path = '/Users/lukas-danielf/Documents/Pathologie Marburg/dashtest/test data/metadata_v2.csv'\n",
    "df = pd.read_csv(Path, sep='\\t')\n",
    "\n",
    "column_list = df.columns.tolist()\n",
    "excluded_columns = ['ID', 'name']\n",
    "excluded_values = []\n",
    "\n",
    "#print(column_list)\n",
    "\n",
    "# Create empty lists to store unique values for each column\n",
    "unique_lists = [[] for _ in range(len(df.columns) - len(excluded_columns))]\n",
    "\n",
    "# Iterate over columns and store unique values in separate lists\n",
    "column_index = 0\n",
    "for column in df.columns:\n",
    "    if column not in excluded_columns:\n",
    "        # Filter out excluded values\n",
    "        unique_values = [value for value in df[column].unique() if value not in excluded_values]\n",
    "        unique_lists[column_index] = unique_values\n",
    "        column_index += 1\n",
    "\n",
    "print(unique_lists)\n",
    "\n",
    "\n"
   ]
  },
  {
   "cell_type": "code",
   "execution_count": 30,
   "metadata": {},
   "outputs": [
    {
     "name": "stdout",
     "output_type": "stream",
     "text": [
      "{'case': ['ACH 29', 'ACH 50', 'ACH 59', 'ACH 78', 'ACH 88', 'ACH 91', 'ACH 102', 'ACH 105', 'ACH 108', 'ACH 117', 'ACH 118', 'ACH 123', 'ACH 138', 'ACH 161', 'ACH 180', 'ACH 188', 'ACH 226', 'ACH 239', 'ACH 386', 'ACH 392', 'ACH 132', 'ACH 137', 'ACH 190', 'ACH 262', 'ACH 263', 'ACH 463', 'ACH 179', 'ACH 264', 'ACH 483', 'ACH 233', 'ACH 107', 'ACH 110', 'ACH 111', 'ACH 127', 'ACH 131', 'ACH 136', 'ACH 146', 'ACH 151', 'ACH 162', 'ACH 163', 'ACH 173', 'ACH 25', 'ACH 257', 'ACH 265', 'ACH 277', 'ACH 279', 'ACH 28', 'ACH 284', 'ACH 30', 'ACH 301', 'ACH 31']}\n",
      "{'tissue type': ['pancreas', 'lymph node', 'liver']}\n",
      "{'diagnosis': ['tumor', 'normal']}\n",
      "{'tumor type': ['primary', 'non-tumor', 'metastasis', 'relapse']}\n",
      "{'gland size': ['low', nan, 'high']}\n",
      "{'gland count': ['high', nan, 'low']}\n",
      "{'batch': [1, 2, 3]}\n",
      "{'groups': [nan]}\n",
      "{'pan.t_vs_lym.n': [1.0, nan, 0.0]}\n",
      "{'lym-m_vs_pan-t': [0.0, nan, 1.0]}\n",
      "{'liv-m_vs_pan-t': [0.0, nan, 1.0]}\n",
      "{'lym-m_vs_lym-n': [nan, 1.0, 0.0]}\n",
      "{'pan-t_vs_pan-n': [1.0, 0.0, nan]}\n",
      "{'all': [3, 5, 1, 2, 0]}\n",
      "{'global': [3, 5, 1, 2, 4, 0]}\n"
     ]
    }
   ],
   "source": [
    "column_list = df.columns.tolist()\n",
    "excluded_columns = ['ID', 'name']\n",
    "\n",
    "for col in column_list:\n",
    "    if col not in excluded_columns:\n",
    "        col = df[col].unique().tolist()\n",
    "        #dcc.store(col, id=col)\n",
    "\n",
    "for col in column_list:\n",
    "    if col not in excluded_columns:\n",
    "        options_dict = {col: df[col].unique().tolist()}\n",
    "        print(options_dict)\n",
    "\n",
    "#print(col)"
   ]
  },
  {
   "cell_type": "code",
   "execution_count": 28,
   "metadata": {},
   "outputs": [],
   "source": [
    "selected_columns: list[str] = []\n",
    "column_list = df.columns.tolist()\n",
    "excluded_columns = ['ID', 'name']\n",
    "\n",
    "for col in column_list:\n",
    "    if col not in excluded_columns:\n",
    "        options_dict = {col: df[col].unique().tolist()}"
   ]
  },
  {
   "cell_type": "code",
   "execution_count": null,
   "metadata": {},
   "outputs": [],
   "source": []
  },
  {
   "cell_type": "code",
   "execution_count": 35,
   "metadata": {},
   "outputs": [
    {
     "name": "stdout",
     "output_type": "stream",
     "text": [
      "Div([Div(id='more-dropdowns')])\n",
      "[]\n",
      "Dash app running on http://127.0.0.1:8050/\n"
     ]
    }
   ],
   "source": [
    "class AppState:\n",
    "    selected_columns: list[str] = []\n",
    "    column_list = df.columns.tolist()\n",
    "    excluded_columns = ['ID', 'name']\n",
    "\n",
    "\n",
    "for col in column_list:\n",
    "    if col not in excluded_columns:\n",
    "        options_dict = {col: df[col].unique().tolist()}\n",
    "        #print(options_dict)\n",
    "\n",
    "\n",
    "# part 1 render\n",
    "\n",
    "\n",
    "def render_column_selectors(state: AppState):\n",
    "    \"\"\"Renders one ore more select dropdowns based on selected columns\"\"\"\n",
    "\n",
    "    select_columns = dcc.Dropdown(\n",
    "        id=\"select-columns-dropdown\",\n",
    "        options=column_list,\n",
    "        value=[],\n",
    "        multi=True,\n",
    "    )\n",
    "\n",
    "    return html.Div([select_columns, html.Div(id=\"more-dropdowns\")])\n",
    "\n",
    "\n",
    "def render(state: AppState) -> html.Div:\n",
    "    return render_column_selectors(state)\n",
    "\n",
    "\n",
    "# part 2 update\n",
    "\n",
    "\n",
    "# def render_more_dropdowns(selected_columns: list[str]) -> list[dcc.Dropdown]:\n",
    "#     more_dropdowns = []\n",
    "#     #print(selected_columns)\n",
    "#     for col in selected_columns:\n",
    "#         # TODO: basierend auf col:\n",
    "#         # finde die liste an options\n",
    "#         more_dropdowns.append(\n",
    "#             dcc.Dropdown(\n",
    "#                 id=f\"select-{col}-drodown\",\n",
    "#                 placeholder=f\"Select {col}...\",\n",
    "#                 options=[],  # TODO:\n",
    "#             )\n",
    "#         )\n",
    "#     return more_dropdowns\n",
    "\n",
    "def render_more_dropdowns(selected_columns: list[str], options_dict: dict) -> list[dcc.Dropdown]:\n",
    "    more_dropdowns = []\n",
    "    for col in selected_columns:\n",
    "        # Find options for the current column from the dictionary\n",
    "        options = [{'label': str(option), 'value': str(option)} for option in options_dict.get(col, [])]\n",
    "        more_dropdowns.append(\n",
    "            dcc.Dropdown(\n",
    "                id=f\"select-{col}-drodown\",\n",
    "                placeholder=f\"Select {col}...\",\n",
    "                options=options,\n",
    "            )\n",
    "        )\n",
    "    return html.Div([html.Div(id=\"more-dropdowns\")]), more_dropdowns\n",
    "\n",
    "# Render more dropdowns based on selected columns and options dictionary\n",
    "dropdowns = render_more_dropdowns(selected_columns, options_dict)\n",
    "for dropdown in dropdowns:\n",
    "    print(dropdown)\n",
    "\n",
    "\n",
    "\n",
    "@callback(\n",
    "    Output(\"more-dropdowns\", \"children\"),\n",
    "    Input(\"select-columns-dropdown\", \"value\"),\n",
    ")\n",
    "def handle_column_selection(selected: list[str]) -> None:\n",
    "    state.selected_columns = selected\n",
    "    return render_more_dropdowns(selected, options_dict)\n",
    "\n",
    "\n",
    "state = AppState()\n",
    "state.selected_columns = []\n",
    "\n",
    "\n",
    "######################################################\n",
    "\n",
    "\n",
    "app = Dash(__name__)\n",
    "app.layout = render(state)\n",
    "\n",
    "app.run(jupyter_mode=\"external\")"
   ]
  },
  {
   "cell_type": "code",
   "execution_count": null,
   "metadata": {},
   "outputs": [],
   "source": []
  }
 ],
 "metadata": {
  "kernelspec": {
   "display_name": "dash",
   "language": "python",
   "name": "python3"
  },
  "language_info": {
   "codemirror_mode": {
    "name": "ipython",
    "version": 3
   },
   "file_extension": ".py",
   "mimetype": "text/x-python",
   "name": "python",
   "nbconvert_exporter": "python",
   "pygments_lexer": "ipython3",
   "version": "3.12.3"
  }
 },
 "nbformat": 4,
 "nbformat_minor": 2
}
