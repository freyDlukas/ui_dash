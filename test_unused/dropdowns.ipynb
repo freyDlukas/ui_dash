{
 "cells": [
  {
   "cell_type": "code",
   "execution_count": 27,
   "metadata": {},
   "outputs": [],
   "source": [
    "from dash import Dash\n",
    "from dash import dcc, html, Input, Output, State, callback\n",
    "import pandas as pd"
   ]
  },
  {
   "cell_type": "code",
   "execution_count": 28,
   "metadata": {},
   "outputs": [],
   "source": [
    "# read in the metadata file, excluded columns and values\n",
    "Path = \"/Users/lukas-danielf/Documents/Pathologie Marburg/dashtest/test data/metadata_v2.csv\"\n",
    "df = pd.read_csv(Path, sep=\"\\t\")\n",
    "\n",
    "column_list = df.columns.tolist()\n",
    "excluded_columns = [\"ID\", \"name\"]\n",
    "excluded_values = []\n",
    "\n",
    "# Create a dictionary with column names as keys and unique values as values\n",
    "for col in column_list:\n",
    "    if col not in excluded_columns:\n",
    "        options_dict = {col: df[col].unique().tolist()}\n",
    "\n",
    "# Create empty lists to store unique values for each column\n",
    "unique_lists = [[] for _ in range(len(df.columns) - len(excluded_columns))]\n",
    "\n",
    "# print(column_list, options_dict)\n",
    "columns_filtered = []\n",
    "for x in column_list:\n",
    "    if x not in excluded_columns:\n",
    "        columns_filtered.append(x)\n",
    "\n",
    "\n",
    "for col in column_list:\n",
    "    if col not in excluded_columns:\n",
    "        options_dict = {col: df[col].unique().tolist()}"
   ]
  },
  {
   "cell_type": "code",
   "execution_count": 30,
   "metadata": {},
   "outputs": [],
   "source": [
    "app = Dash(__name__)\n",
    "app.layout = html.Div(\n",
    "        [\n",
    "            dcc.Dropdown(\n",
    "                id=\"select-columns-dropdown\",\n",
    "                options=columns_filtered,\n",
    "                value=[],\n",
    "                multi=True,\n",
    "            ),\n",
    "            dcc.Store(id=\"selectet_columns\"),\n",
    "        ]\n",
    "    )"
   ]
  },
  {
   "cell_type": "code",
   "execution_count": 35,
   "metadata": {},
   "outputs": [],
   "source": [
    "@app.callback(\n",
    "    Output(\"selected_columns\", \"data\"),\n",
    "    Input(\"select-columns-dropdown\", \"value\"),\n",
    ")\n",
    "@app.callback(\n",
    "    Output(\"more-dropdowns\", \"children\"),\n",
    "    Input(\"select_columns\", \"data\"),\n",
    ")\n",
    "def render_more_dropdowns(selected_columns: list[str], options_dict: dict) -> list[dcc.Dropdown]:\n",
    "    more_dropdowns = []\n",
    "    for col in selected_columns:\n",
    "        # Find options for the current column from the dictionary\n",
    "        options = [{'label': str(option), 'value': str(option)} for option in options_dict.get(col, [])]\n",
    "        more_dropdowns.append(\n",
    "            dcc.Dropdown(\n",
    "                id=f\"select-{col}-drodown\",\n",
    "                placeholder=f\"Select {col}...\",\n",
    "                options=options,\n",
    "            ),\n",
    "        print(more_dropdowns)\n",
    "        )\n",
    "    return html.Div([html.Div(id=\"more-dropdowns\")]), more_dropdowns"
   ]
  },
  {
   "cell_type": "code",
   "execution_count": 34,
   "metadata": {},
   "outputs": [
    {
     "data": {
      "text/html": [
       "\n",
       "        <iframe\n",
       "            width=\"100%\"\n",
       "            height=\"650\"\n",
       "            src=\"http://127.0.0.1:8050/\"\n",
       "            frameborder=\"0\"\n",
       "            allowfullscreen\n",
       "            \n",
       "        ></iframe>\n",
       "        "
      ],
      "text/plain": [
       "<IPython.lib.display.IFrame at 0x10995d7f0>"
      ]
     },
     "metadata": {},
     "output_type": "display_data"
    }
   ],
   "source": [
    "if __name__ == \"__main__\":\n",
    "    app.run(debug=False)"
   ]
  },
  {
   "cell_type": "code",
   "execution_count": null,
   "metadata": {},
   "outputs": [],
   "source": []
  }
 ],
 "metadata": {
  "kernelspec": {
   "display_name": "dash",
   "language": "python",
   "name": "python3"
  },
  "language_info": {
   "codemirror_mode": {
    "name": "ipython",
    "version": 3
   },
   "file_extension": ".py",
   "mimetype": "text/x-python",
   "name": "python",
   "nbconvert_exporter": "python",
   "pygments_lexer": "ipython3",
   "version": "3.12.3"
  }
 },
 "nbformat": 4,
 "nbformat_minor": 2
}
