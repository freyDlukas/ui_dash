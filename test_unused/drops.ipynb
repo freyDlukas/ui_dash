{
 "cells": [
  {
   "cell_type": "code",
   "execution_count": 25,
   "metadata": {},
   "outputs": [],
   "source": [
    "from dash import Dash\n",
    "from dash import dcc, html, Input, Output, State, callback, ALL, Patch, MATCH, dash_table\n",
    "import pandas as pd\n"
   ]
  },
  {
   "cell_type": "code",
   "execution_count": 26,
   "metadata": {},
   "outputs": [
    {
     "name": "stdout",
     "output_type": "stream",
     "text": [
      "['case', 'tissue type', 'diagnosis', 'tumor type', 'gland size', 'gland count', 'batch', 'groups', 'pan.t_vs_lym.n', 'lym-m_vs_pan-t', 'liv-m_vs_pan-t', 'lym-m_vs_lym-n', 'pan-t_vs_pan-n', 'all', 'global']\n",
      "{'case': ['ACH 29', 'ACH 50', 'ACH 59', 'ACH 78', 'ACH 88', 'ACH 91', 'ACH 102', 'ACH 105', 'ACH 108', 'ACH 117', 'ACH 118', 'ACH 123', 'ACH 138', 'ACH 161', 'ACH 180', 'ACH 188', 'ACH 226', 'ACH 239', 'ACH 386', 'ACH 392', 'ACH 132', 'ACH 137', 'ACH 190', 'ACH 262', 'ACH 263', 'ACH 463', 'ACH 179', 'ACH 264', 'ACH 483', 'ACH 233', 'ACH 107', 'ACH 110', 'ACH 111', 'ACH 127', 'ACH 131', 'ACH 136', 'ACH 146', 'ACH 151', 'ACH 162', 'ACH 163', 'ACH 173', 'ACH 25', 'ACH 257', 'ACH 265', 'ACH 277', 'ACH 279', 'ACH 28', 'ACH 284', 'ACH 30', 'ACH 301', 'ACH 31'], 'tissue type': ['pancreas', 'lymph node', 'liver'], 'diagnosis': ['tumor', 'normal'], 'tumor type': ['primary', 'non-tumor', 'metastasis', 'relapse'], 'gland size': ['low', nan, 'high'], 'gland count': ['high', nan, 'low'], 'batch': [1, 2, 3], 'groups': [nan], 'pan.t_vs_lym.n': [1.0, nan, 0.0], 'lym-m_vs_pan-t': [0.0, nan, 1.0], 'liv-m_vs_pan-t': [0.0, nan, 1.0], 'lym-m_vs_lym-n': [nan, 1.0, 0.0], 'pan-t_vs_pan-n': [1.0, 0.0, nan], 'all': [3, 5, 1, 2, 0], 'global': [3, 5, 1, 2, 4, 0]}\n"
     ]
    }
   ],
   "source": [
    "# read in the metadata file, excluded columns and values\n",
    "Path = \"/Users/lukas-danielf/Documents/Pathologie Marburg/dashtest/test data/metadata_v2.csv\"\n",
    "df = pd.read_csv(Path, sep=\"\\t\")\n",
    "\n",
    "column_list = df.columns.tolist()\n",
    "excluded_columns = [\"ID\", \"name\"]\n",
    "excluded_values = []\n",
    "\n",
    "# Create a dictionary with column names as keys and unique values as values\n",
    "for col in column_list:\n",
    "    if col not in excluded_columns:\n",
    "        options_dict = {col: df[col].unique().tolist()}\n",
    "\n",
    "# Create empty lists to store unique values for each column\n",
    "unique_lists = [[] for _ in range(len(df.columns) - len(excluded_columns))]\n",
    "\n",
    "\n",
    "def create_columns_filtered(df, excluded_columns):\n",
    "    columns_filtered = []\n",
    "    for x in df.columns:\n",
    "        if x not in excluded_columns:\n",
    "            columns_filtered.append(x)\n",
    "    return columns_filtered\n",
    "\n",
    "columns_filtered = create_columns_filtered(df, excluded_columns)\n",
    "print(columns_filtered)\n",
    "\n",
    "def create_options_dict(df, excluded_columns):\n",
    "    options_dict = {}\n",
    "    for col in df.columns:\n",
    "        if col not in excluded_columns:\n",
    "            options_dict[col] = df[col].unique().tolist()\n",
    "    return options_dict\n",
    "\n",
    "options_dict = create_options_dict(df, excluded_columns)\n",
    "print(options_dict)\n"
   ]
  },
  {
   "cell_type": "code",
   "execution_count": 28,
   "metadata": {},
   "outputs": [],
   "source": [
    "app = Dash(__name__)\n",
    "\n",
    "app.layout = html.Div(\n",
    "    [\n",
    "        html.Div(children=[\n",
    "            dcc.Dropdown(\n",
    "                id=\"select-columns-dropdown\",\n",
    "                options=columns_filtered,\n",
    "                value=[],\n",
    "                multi=True,\n",
    "            ),\n",
    "            dcc.Store(id=\"selectet_columns\"),\n",
    "        ]),\n",
    "        html.Div(id='container', children=[]),\n",
    "        html.Br(),\n",
    "        dcc.Store(id='store', data=[]),\n",
    "        dash_table.DataTable(df.to_dict('records'), \n",
    "                            [{\"name\": i, \"id\": i} for i in df.columns], \n",
    "                            id='table',\n",
    "                            page_size=10,\n",
    "                            style_table={\"overflowX\": \"auto\"},),\n",
    "\n",
    "    ]\n",
    ")\n",
    "@app.callback(\n",
    "    Output(\"container\", \"children\"),\n",
    "    Input(\"select-columns-dropdown\", \"value\"),\n",
    "    State(\"container\", \"children\"),\n",
    ")\n",
    "def dropdown_children(selected_columns, div_children):\n",
    "    \n",
    "    div_children.clear()\n",
    "    # Iterate over selected columns\n",
    "\n",
    "    for col in selected_columns:\n",
    "        options = [{'label': str(option), 'value': str(option)} for option in options_dict.get(col, [])]\n",
    "        new_child = html.Div(\n",
    "            dcc.Dropdown(\n",
    "            id=f\"select-{col}-dropdown\",\n",
    "            placeholder=f\"Select {col}...\",\n",
    "            options=options,\n",
    "            multi=True,\n",
    "        )\n",
    "        )\n",
    "        div_children.append(new_child)\n",
    "    return div_children\n",
    "#filter dataframe based on selected values\n",
    "@app.callback(\n",
    "    Output('store', 'data'),\n",
    "    Input('select-columns-dropdown', 'value'),\n",
    "    Input(f'select-{col}-dropdown', 'value'),\n",
    "\n",
    ")\n",
    "def store_values(columns, values):\n",
    "    #create empty dictionary\n",
    "    filter_dict = {}\n",
    "    for col in columns:\n",
    "        for val in values:\n",
    "            filter_dict[col] = val\n",
    "    print(filter_dict)\n",
    "    return filter_dict\n",
    "\n",
    "\n"
   ]
  },
  {
   "cell_type": "code",
   "execution_count": 29,
   "metadata": {},
   "outputs": [
    {
     "data": {
      "text/html": [
       "\n",
       "        <iframe\n",
       "            width=\"100%\"\n",
       "            height=\"650\"\n",
       "            src=\"http://127.0.0.1:8055/\"\n",
       "            frameborder=\"0\"\n",
       "            allowfullscreen\n",
       "            \n",
       "        ></iframe>\n",
       "        "
      ],
      "text/plain": [
       "<IPython.lib.display.IFrame at 0x118ce7020>"
      ]
     },
     "metadata": {},
     "output_type": "display_data"
    }
   ],
   "source": [
    "if __name__ == \"__main__\":\n",
    "    app.run(debug=False, port=8055,)"
   ]
  },
  {
   "cell_type": "code",
   "execution_count": null,
   "metadata": {},
   "outputs": [],
   "source": []
  }
 ],
 "metadata": {
  "kernelspec": {
   "display_name": "dash",
   "language": "python",
   "name": "python3"
  },
  "language_info": {
   "codemirror_mode": {
    "name": "ipython",
    "version": 3
   },
   "file_extension": ".py",
   "mimetype": "text/x-python",
   "name": "python",
   "nbconvert_exporter": "python",
   "pygments_lexer": "ipython3",
   "version": "3.12.3"
  }
 },
 "nbformat": 4,
 "nbformat_minor": 2
}
