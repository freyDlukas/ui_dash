{
 "cells": [
  {
   "cell_type": "code",
   "execution_count": null,
   "metadata": {},
   "outputs": [],
   "source": [
    "import errno\n",
    "import os\n",
    "from datetime import datetime\n",
    "# Create a new directory with the current date and time\n",
    "def filecreation(list, filename):\n",
    "    mydir = os.path.join(\n",
    "        os.getcwd(), \n",
    "        datetime.now().strftime('%Y-%m-%d_%H-%M-%S'))\n",
    "    try:\n",
    "        os.makedirs(mydir)\n",
    "    except OSError as e:\n",
    "        if e.errno != errno.EEXIST:\n",
    "            raise  # This was not a \"directory exist\" error.."
   ]
  },
  {
   "cell_type": "code",
   "execution_count": null,
   "metadata": {},
   "outputs": [],
   "source": [
    "import os\n",
    "import shutil\n",
    "from datetime import datetime, timedelta\n",
    "\n",
    "def remove_old_folders(directory, days=30):\n",
    "    # Calculate the date threshold\n",
    "    threshold_date = datetime.now() - timedelta(days=days)\n",
    "    \n",
    "    # Iterate through all items in the directory\n",
    "    for item in os.listdir(directory):\n",
    "        item_path = os.path.join(directory, item)\n",
    "        \n",
    "        # Check if it's a directory\n",
    "        if os.path.isdir(item_path):\n",
    "            # Get the modification time of the directory\n",
    "            modification_time = datetime.fromtimestamp(os.path.getmtime(item_path))\n",
    "            \n",
    "            # Check if the directory is older than the threshold\n",
    "            if modification_time < threshold_date:\n",
    "                # Remove the directory\n",
    "                shutil.rmtree(item_path)\n",
    "                print(f\"Removed {item_path}\")\n",
    "\n",
    "# Example usage:\n",
    "directory_to_clean = \"/path/to/your/directory\"\n",
    "remove_old_folders(directory_to_clean)\n"
   ]
  }
 ],
 "metadata": {
  "kernelspec": {
   "display_name": "dash",
   "language": "python",
   "name": "python3"
  },
  "language_info": {
   "codemirror_mode": {
    "name": "ipython",
    "version": 3
   },
   "file_extension": ".py",
   "mimetype": "text/x-python",
   "name": "python",
   "nbconvert_exporter": "python",
   "pygments_lexer": "ipython3",
   "version": "3.12.3"
  }
 },
 "nbformat": 4,
 "nbformat_minor": 2
}
